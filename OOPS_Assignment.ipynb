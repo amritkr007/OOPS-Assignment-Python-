{
  "nbformat": 4,
  "nbformat_minor": 0,
  "metadata": {
    "colab": {
      "provenance": []
    },
    "kernelspec": {
      "name": "python3",
      "display_name": "Python 3"
    },
    "language_info": {
      "name": "python"
    }
  },
  "cells": [
    {
      "cell_type": "markdown",
      "source": [
        "# Theoretical Questions"
      ],
      "metadata": {
        "id": "1RBkGzmVjgT9"
      }
    },
    {
      "cell_type": "markdown",
      "source": [
        "1.What is Object-Oriented Programming (OOP)+\n",
        "-  Object oriented programing is the programing paradigm based on the concept of objects, which contains data and behaviour."
      ],
      "metadata": {
        "id": "MgVKXgfgjp5Z"
      }
    },
    {
      "cell_type": "markdown",
      "source": [
        "2.What is a class in OOP+\n",
        "- A class in object oriented programing is a blueprint or template for creating objects. It defines the attributes and method that the objects created form it will have.\n"
      ],
      "metadata": {
        "id": "xxshj_4WkNpG"
      }
    },
    {
      "cell_type": "markdown",
      "source": [
        "3.What is an object in OOP+\n",
        "- An object in object oriented programing is an instance of a class. It represents a real-world entity with in own-data and behaviour."
      ],
      "metadata": {
        "id": "Gb6XmCy4kT96"
      }
    },
    {
      "cell_type": "markdown",
      "source": [
        "4.What is the difference between abstraction and encapsulation+\n",
        "-  Abstraction:\n",
        "    - Abstraction is the process of hiding implementation details and only showinng the necessary features to the user.\n",
        "    - Focus: What an object does, rather than how it does it.\n",
        "    - Example: The Animal class hides the implementation of sound().\n",
        "- Encapsulation:\n",
        "    - Encapsulation is the process of redirecting direct access to data and only allowing controlled access through getter/setter method.\n",
        "    - Focus: Protects data from unintended modification.\n",
        "    - Example: The __balance attribute is private, so it can't be accessed directly.\n"
      ],
      "metadata": {
        "id": "K02fDQIlkau6"
      }
    },
    {
      "cell_type": "markdown",
      "source": [
        "5.What are dunder methods in Python+\n",
        "- Dunder method are known as magic method or special method, are built-in python methods with double underscores before an after their names."
      ],
      "metadata": {
        "id": "WMmc32eYknlO"
      }
    },
    {
      "cell_type": "markdown",
      "source": [
        "6.Explain the concept of inheritance in OOPH\n",
        "-  - Key concepts of inheritance are:\n",
        "    - Code reusability: Avoids redundancy by reusing existing code\n",
        "    - Scalability: Allow easy modification and extensions.\n",
        "    - Hierarchy Representation: Represents real-world relationship between classes\n",
        "    - Improved maintainbility: Changes in the parent class affect all child classes."
      ],
      "metadata": {
        "id": "_eL_iLRnkynS"
      }
    },
    {
      "cell_type": "markdown",
      "source": [
        "7.What is polymorphism in OOP+\n",
        "- In OOPS, polymorphism allows one interface to be used for different data types or classes."
      ],
      "metadata": {
        "id": "Yo_i20umk5aD"
      }
    },
    {
      "cell_type": "markdown",
      "source": [
        "8.How is encapsulation achieved in Python+\n",
        "- - Python does not have strict access modifiers (private, protected, etc) like java or c++.\n",
        "    - Public member:\n",
        "      - Public attributes and methods can be accessed from anywhere.\n",
        "      - Example: Brand\n",
        "    - Private member:\n",
        "      - Single underscore indicates a protected member.\n",
        "      - Example: _balance should be treated as protected.\n",
        "    - Using getter and setter:\n",
        "      - To safely access and modify private attributes, we use getter and setter method.\n",
        "      -  Encapsulation prevents invalid data."
      ],
      "metadata": {
        "id": "hezp3m9XlAG5"
      }
    },
    {
      "cell_type": "markdown",
      "source": [
        "9.What is a constructor in Python+\n",
        "- A constructor is the special method in python used to initialize an object when it is created. It automatically runs when an instance of the class is created."
      ],
      "metadata": {
        "id": "lS5JRHNzlIN_"
      }
    },
    {
      "cell_type": "markdown",
      "source": [
        "10.What are class and static methods in Python+\n",
        "- Class Method:\n",
        "   - It can be accessed using @classmethod\n",
        "   - The first parameter are used using cls\n",
        "   - We can modifies the class attributes\n",
        "   - We can't modifies the instance attributes\n",
        "   - Using class method we can access class variables\n",
        "- Static method:\n",
        "   - It can be accessed using @staticmethod\n",
        "   - In this first parameter we don't have to use self or cls\n",
        "   - We can't modifies the class attributes.\n",
        "   - We can't modifies the instance attributes\n",
        "   - we can't access the class variables"
      ],
      "metadata": {
        "id": "Mee1TM3TlPhy"
      }
    },
    {
      "cell_type": "markdown",
      "source": [
        "11.What is method overloading in Python+\n",
        "- Method overloading allows multiple methods in a class to have the same name but different parameters.\n",
        "  - In many langauges method overloading is achhived by defining multiple methods with the same name but different argunment lists."
      ],
      "metadata": {
        "id": "HFtzcA2hlbdW"
      }
    },
    {
      "cell_type": "markdown",
      "source": [
        "12.What is method overriding in OOP+\n",
        "- Method overriding occurs when a subclass provides a specific implementation of a method that is already defined in its parent class.\n",
        "  "
      ],
      "metadata": {
        "id": "WYBc1JeNlpJx"
      }
    },
    {
      "cell_type": "markdown",
      "source": [
        "13.What is a property decorator in Python+\n",
        "- In python the property decorator allows you to define the getter method in an object-oriented way.\n",
        "  - It helps create read-only properties or control access to instance variables."
      ],
      "metadata": {
        "id": "5W6MyTmGnXC-"
      }
    },
    {
      "cell_type": "markdown",
      "source": [
        "14.Why is polymorphism important in OOP+\n",
        "- Polymorphisms means 'Many forms', it allows object of different classes to be treated as objects of a common superclass.\n",
        "  - In OOPS, polymorphism let a single interface to be used for different data types.\n",
        "  - It enables code reusablity, flexiblity and scalablity.\n"
      ],
      "metadata": {
        "id": "cB577ktyne_w"
      }
    },
    {
      "cell_type": "markdown",
      "source": [
        "15.What is an abstract class in Python+\n",
        "- An abstract class in python that cannot be instantiated and serves as a blueprint for other classes. It typically contains methods, which are methods that must be implemented by any subclass."
      ],
      "metadata": {
        "id": "7OlnTcI8nl3F"
      }
    },
    {
      "cell_type": "markdown",
      "source": [
        "16.What are the advantages of OOP+\n",
        "- Advantages of OOPS are:\n",
        "  - Code reusability:\n",
        "    - Allows new classes to inherit properties and methods from existing classses.\n",
        "    - Reduces code duplication and improves maintainablity.\n",
        "  - Encapsulation:\n",
        "    - Restricts direct access to data and modifies it only through defined methods.\n",
        "  - Abstraction:\n",
        "    - Hides complex implementation details and only exposses essential features.\n",
        "  - Polymorphism:\n",
        "    - Allows objects of different classes to be treated as instances of the same class."
      ],
      "metadata": {
        "id": "9GeDeF1knsfb"
      }
    },
    {
      "cell_type": "markdown",
      "source": [
        "17.What is the difference between a class variable and an instance variable+\n",
        "- Class variables:\n",
        "    - Defined inside the class but outside the method.\n",
        "    - Shared across all instance of class\n",
        "    - Changing the class variables affects all instances\n",
        "- Instances variables:\n",
        "    - Defined inside the constructor using self.\n",
        "    - Unique to each instance of the class\n",
        "    - Modifying the instance variable only affects that specific instance."
      ],
      "metadata": {
        "id": "5XYaRCdDnzfH"
      }
    },
    {
      "cell_type": "markdown",
      "source": [
        "18.What is multiple inheritance in Python+\n",
        "- Multiple inheritance is a feature in python where a class can inherit from more than one parent class.This allows the child class to have acesss to the attributes and method of multiple parent class."
      ],
      "metadata": {
        "id": "CDVyav-qn7Gk"
      }
    },
    {
      "cell_type": "markdown",
      "source": [
        "19.Explain the purpose of ‘’__str__’ and ‘__repr__’ ‘ methods in PythonH\n",
        "- __str__ Method:\n",
        "    - Used to create a humman readable string representation of an object.\n",
        "    - called when you print(object)\n",
        "    - Meant to be user-friendly\n",
        "- __repr__ method:\n",
        "    - Used to create an unambiguous representation of the object, aminly for debugging.\n",
        "    - Should idely return a string taht, when when passed to eval(), can increate the object.\n",
        "    - called when using repr(object).\n"
      ],
      "metadata": {
        "id": "2_qliWYLoAi5"
      }
    },
    {
      "cell_type": "markdown",
      "source": [
        "20.What is the significance of the ‘super()’ function in Python+\n",
        "- The super() function is used in Python for calling methods from a parent (or superclass) inside a child class. It is especially useful in inheritance when we want to reuse the functionality of a superclass without explicitly referencing it."
      ],
      "metadata": {
        "id": "6kl9Yh_8oIfl"
      }
    },
    {
      "cell_type": "markdown",
      "source": [
        "21.What is the significance of the __del__ method in Python+\n",
        "- The __del__ method is a destructor in Python that is automatically called when an object is about to be destroyed (garbage collected). It is used to clean up resources such as closing files, releasing memory, or disconnecting from databases.\n"
      ],
      "metadata": {
        "id": "VycDUfeJoO90"
      }
    },
    {
      "cell_type": "markdown",
      "source": [
        "22.What is the difference between @staticmethod and @classmethod in Python+\n",
        "- @staticmethod:-\n",
        "    - Defines a method that does not requires access to class or instance attributes.\n",
        "    - Acts like a regular function inside a class, but its is logically related to the class.\n",
        "    - Does not modify or access class state.\n",
        "- @classmethod:\n",
        "    - Defines a method that operates on the class itself, rather than an instance.\n",
        "    - Uses cls as its first parameter, giving access to class variables and methods.\n",
        "    - Useful for modifying or creating class-level data."
      ],
      "metadata": {
        "id": "qNapicpdoVxi"
      }
    },
    {
      "cell_type": "markdown",
      "source": [
        "23.How does polymorphism work in Python with inheritance+\n",
        "- Polymorphism allows objects of different classes to be treated as objects of a common superclass. It enables method overriding and promotes code reusability and flexibility.\n"
      ],
      "metadata": {
        "id": "1DrY6X1Jofs8"
      }
    },
    {
      "cell_type": "markdown",
      "source": [
        "24.What is method chaining in Python OOP+\n",
        "- Method Chaining is a technique in Object-Oriented Programming (OOP) where multiple methods are called on the same object in a single line. This is done by returning self from each method, allowing the next method to be invoked directly."
      ],
      "metadata": {
        "id": "JlwtmC-Gomst"
      }
    },
    {
      "cell_type": "markdown",
      "source": [
        "25.What is the purpose of the __call__ method in Python?\n",
        "- The __call__ method in Python allows an instance of a class to be called like a function. It is a special (dunder) method that enables objects to behave as callable functions."
      ],
      "metadata": {
        "id": "s3N4B2V9osqa"
      }
    },
    {
      "cell_type": "markdown",
      "source": [
        "# Practical Question"
      ],
      "metadata": {
        "id": "I2sHtgxNo02m"
      }
    },
    {
      "cell_type": "markdown",
      "source": [
        "1.Create a parent class Animal with a method speak() that prints a generic message. Create a child class Dog\n",
        "that overrides the speak() method to print \"Bark!\"."
      ],
      "metadata": {
        "id": "rOE8g1Kpo-EN"
      }
    },
    {
      "cell_type": "code",
      "source": [
        "class Animal:\n",
        "    def speak(self):\n",
        "        print(\"The animal makes a sound.\")\n",
        "\n",
        "class Dog(Animal):\n",
        "    def speak(self):\n",
        "        print(\"Bark!\")\n",
        "\n",
        "# Example usage\n",
        "animal = Animal()\n",
        "animal.speak()  # Output: The animal makes a sound.\n",
        "\n",
        "dog = Dog()\n",
        "dog.speak()  # Output: Bark!\n"
      ],
      "metadata": {
        "colab": {
          "base_uri": "https://localhost:8080/"
        },
        "id": "AKp53IPBpDOw",
        "outputId": "6e4a25d3-c0db-48e6-8cbe-5cc78802cb6a"
      },
      "execution_count": 3,
      "outputs": [
        {
          "output_type": "stream",
          "name": "stdout",
          "text": [
            "The animal makes a sound.\n",
            "Bark!\n"
          ]
        }
      ]
    },
    {
      "cell_type": "markdown",
      "source": [
        "2.Write a program to create an abstract class Shape with a method area(). Derive classes Circle and Rectangle\n",
        "from it and implement the area() method in both."
      ],
      "metadata": {
        "id": "AmDy482Zp8IH"
      }
    },
    {
      "cell_type": "code",
      "source": [
        "from abc import ABC, abstractmethod\n",
        "class shape(ABC):\n",
        "  @abstractmethod\n",
        "  def area(self):\n",
        "    pass\n",
        "class circle(shape):\n",
        "  def __init__(self, radius):\n",
        "    self.radius = radius\n",
        "  def area(self):\n",
        "    return 3.14 * self.radius * self.radius\n",
        "class rectangle(shape):\n",
        "  def __init__(self,width, height):\n",
        "    self.width = width\n",
        "    self.height = height\n",
        "\n",
        "  def area(self):\n",
        "    return self.width *  self.height\n",
        "\n",
        "circle = circle(5)\n",
        "rectangle = rectangle(10,20)\n",
        "\n",
        "print(f\"Area of circle: {circle.area()}\")\n",
        "print(f\"Area of rectangle: {rectangle.area()}\")"
      ],
      "metadata": {
        "colab": {
          "base_uri": "https://localhost:8080/"
        },
        "id": "nYh27EwYp_wJ",
        "outputId": "46b41562-b289-4ae5-9512-a16c4d0c6535"
      },
      "execution_count": 4,
      "outputs": [
        {
          "output_type": "stream",
          "name": "stdout",
          "text": [
            "Area of circle: 78.5\n",
            "Area of rectangle: 200\n"
          ]
        }
      ]
    },
    {
      "cell_type": "markdown",
      "source": [
        "3.Implement a multi-level inheritance scenario where a class Vehicle has an attribute type. Derive a class Car\n",
        "and further derive a class ElectricCar that adds a battery attribute."
      ],
      "metadata": {
        "id": "89XO2PVoqHvi"
      }
    },
    {
      "cell_type": "code",
      "source": [
        "class Vehicle:\n",
        "  def __init__(self, type):\n",
        "    self.type = type\n",
        "  def show_type(self):\n",
        "    print(f\"Vehicle Type: {self.type}\")\n",
        "\n",
        "class Car(Vehicle):\n",
        "  def __init__(self, type, brand):\n",
        "    super().__init__(type)\n",
        "    self.brand = brand\n",
        "  def show_brand(self):\n",
        "    print(f\"Car barnd: {self.brand}\")\n",
        "\n",
        "class ElectricCar(Car):\n",
        "  def __init__(self, type, brand, battery):\n",
        "    super().__init__(type, brand)\n",
        "    self.battery = battery\n",
        "  def show_battery(self):\n",
        "    print(f\"Battery capacity: {self.battery}\")\n",
        "\n",
        "Tesla = ElectricCar(\"Electric\",\"Tesla\",\"90kwh\")\n",
        "\n",
        "Tesla.show_type()\n",
        "Tesla.show_brand()\n",
        "Tesla.show_battery()"
      ],
      "metadata": {
        "colab": {
          "base_uri": "https://localhost:8080/"
        },
        "id": "3uBAv7aeqMOE",
        "outputId": "094d2a69-6e8a-451c-d57a-f48b38e7b825"
      },
      "execution_count": 5,
      "outputs": [
        {
          "output_type": "stream",
          "name": "stdout",
          "text": [
            "Vehicle Type: Electric\n",
            "Car barnd: Tesla\n",
            "Battery capacity: 90kwh\n"
          ]
        }
      ]
    },
    {
      "cell_type": "markdown",
      "source": [
        "4.Demonstrate polymorphism by creating a base class Bird with a method fly(). Create two derived classes\n",
        "Sparrow and Penguin that override the fly() method.\n"
      ],
      "metadata": {
        "id": "ru-PMFX3qRqk"
      }
    },
    {
      "cell_type": "code",
      "source": [
        "class Bird:\n",
        "    def fly(self):\n",
        "        print(\"Birds can generally fly.\")\n",
        "\n",
        "class Sparrow(Bird):\n",
        "    def fly(self):\n",
        "        print(\"Sparrow flies high in the sky!\")\n",
        "\n",
        "class Penguin(Bird):\n",
        "    def fly(self):\n",
        "        print(\"Penguins cannot fly, they swim instead!\")\n",
        "\n",
        "def test_flight(bird):\n",
        "    bird.fly()\n",
        "\n",
        "sparrow = Sparrow()\n",
        "penguin = Penguin()\n",
        "\n",
        "test_flight(sparrow)\n",
        "test_flight(penguin)\n"
      ],
      "metadata": {
        "colab": {
          "base_uri": "https://localhost:8080/"
        },
        "id": "PStQTo-uqVlS",
        "outputId": "9c618903-8341-42b6-b042-e7166148a062"
      },
      "execution_count": 6,
      "outputs": [
        {
          "output_type": "stream",
          "name": "stdout",
          "text": [
            "Sparrow flies high in the sky!\n",
            "Penguins cannot fly, they swim instead!\n"
          ]
        }
      ]
    },
    {
      "cell_type": "markdown",
      "source": [
        "5.Write a program to demonstrate encapsulation by creating a class BankAccount with private attributes\n",
        "balance and methods to deposit, withdraw, and check balance."
      ],
      "metadata": {
        "id": "bSvd9caYqbKI"
      }
    },
    {
      "cell_type": "code",
      "source": [
        "class BankAccount:\n",
        "  def __init__(self, balance = 0):\n",
        "    self.__balance = balance\n",
        "  def deposite(self, amount):\n",
        "    if amount > 0:\n",
        "      self.__balance += amount\n",
        "      print(f\"Deposited: ${amount}\")\n",
        "    else:\n",
        "      print(\"Deposite amount must be greater than 100\")\n",
        "  def withdraw(self, amount):\n",
        "    if 0 < amount <= self.__balance:\n",
        "      self.__balance -= amount\n",
        "      print(f\"Withdraw: ${amount}\")\n",
        "    else:\n",
        "      print(\"Insufficient balance or invalid withdraw amount\")\n",
        "  def check_balance(self):\n",
        "    print(f\"Current balance: ${self.__balance}\")\n",
        "\n",
        "account = BankAccount(1000)\n",
        "account.check_balance()\n",
        "account.deposite(500)\n",
        "account.withdraw(300)\n",
        "account.check_balance()"
      ],
      "metadata": {
        "colab": {
          "base_uri": "https://localhost:8080/"
        },
        "id": "7JihV_rAqfIz",
        "outputId": "c4d433ac-188c-4870-e494-1adbb78f7d25"
      },
      "execution_count": 7,
      "outputs": [
        {
          "output_type": "stream",
          "name": "stdout",
          "text": [
            "Current balance: $1000\n",
            "Deposited: $500\n",
            "Withdraw: $300\n",
            "Current balance: $1200\n"
          ]
        }
      ]
    },
    {
      "cell_type": "markdown",
      "source": [
        "6.Demonstrate runtime polymorphism using a method play() in a base class Instrument. Derive classes Guitar\n",
        "and Piano that implement their own version of play()."
      ],
      "metadata": {
        "id": "Cvb-p1wOqjPz"
      }
    },
    {
      "cell_type": "code",
      "source": [
        "# Base class\n",
        "class Instrument:\n",
        "    def play(self):\n",
        "        print(\"An instrument is playing.\")\n",
        "\n",
        "# Derived class 1\n",
        "class Guitar(Instrument):\n",
        "    def play(self):\n",
        "        print(\"The guitar is strumming.\")\n",
        "\n",
        "# Derived class 2\n",
        "class Piano(Instrument):\n",
        "    def play(self):\n",
        "        print(\"The piano is playing a melody.\")\n",
        "\n",
        "# Function to demonstrate polymorphism\n",
        "def play_instrument(instrument):\n",
        "    instrument.play()\n",
        "\n",
        "# Create instances of the classes\n",
        "instrument = Instrument()\n",
        "guitar = Guitar()\n",
        "piano = Piano()\n",
        "\n",
        "# Demonstrate runtime polymorphism\n",
        "play_instrument(instrument)  # Output: An instrument is playing.\n",
        "play_instrument(guitar)      # Output: The guitar is strumming.\n",
        "play_instrument(piano)       # Output: The piano is playing a melody."
      ],
      "metadata": {
        "colab": {
          "base_uri": "https://localhost:8080/"
        },
        "id": "izhq4ku4qoMJ",
        "outputId": "5ed49112-ec55-4b78-d4da-a2670321ae8c"
      },
      "execution_count": 24,
      "outputs": [
        {
          "output_type": "stream",
          "name": "stdout",
          "text": [
            "An instrument is playing.\n",
            "The guitar is strumming.\n",
            "The piano is playing a melody.\n"
          ]
        }
      ]
    },
    {
      "cell_type": "markdown",
      "source": [
        "7.Create a class MathOperations with a class method add_numbers() to add two numbers and a static\n",
        "method subtract_numbers() to subtract two numbers."
      ],
      "metadata": {
        "id": "NL2XyB36rNI6"
      }
    },
    {
      "cell_type": "code",
      "source": [
        "class MathOperations:\n",
        "  @classmethod\n",
        "  def add_numbers(cls, a, b):\n",
        "    return a + b\n",
        "  @staticmethod\n",
        "  def subtract_numbers(a, b):\n",
        "    return a - b\n",
        "\n",
        "print(\"Addition:\", MathOperations.add_numbers(10, 50))\n",
        "print(\"Substraction\", MathOperations.subtract_numbers(100, 40))"
      ],
      "metadata": {
        "colab": {
          "base_uri": "https://localhost:8080/"
        },
        "id": "RbrJ9z8wrQO1",
        "outputId": "f57a4392-d5c7-4193-8f01-5bbf8736f12f"
      },
      "execution_count": 10,
      "outputs": [
        {
          "output_type": "stream",
          "name": "stdout",
          "text": [
            "Addition: 60\n",
            "Substraction 60\n"
          ]
        }
      ]
    },
    {
      "cell_type": "markdown",
      "source": [
        "8.Implement a class Person with a class method to count the total number of persons created"
      ],
      "metadata": {
        "id": "sV4avN0nrUMf"
      }
    },
    {
      "cell_type": "code",
      "source": [
        "class Person:\n",
        "  total_persons = 0\n",
        "  def __init__(self, name):\n",
        "    self.name = name\n",
        "    Person.total_persons += 1\n",
        "  @classmethod\n",
        "  def get_total_persons(cls):\n",
        "    return cls.total_persons\n",
        "p1 = Person(\"Ronit\")\n",
        "p2 = Person(\"Aryan\")\n",
        "print(\"Total persons created:\", Person.get_total_persons())"
      ],
      "metadata": {
        "colab": {
          "base_uri": "https://localhost:8080/"
        },
        "id": "fQeewM_GrX6A",
        "outputId": "87efd2e2-d11a-4c7f-a461-d7bc0da05f52"
      },
      "execution_count": 11,
      "outputs": [
        {
          "output_type": "stream",
          "name": "stdout",
          "text": [
            "Total persons created: 2\n"
          ]
        }
      ]
    },
    {
      "cell_type": "markdown",
      "source": [
        "9.Write a class Fraction with attributes numerator and denominator. Override the str method to display the\n",
        "fraction as \"numerator/denominator\"."
      ],
      "metadata": {
        "id": "RDKeMJ1DrdqT"
      }
    },
    {
      "cell_type": "code",
      "source": [
        "class Fractions:\n",
        "  def __init__(self, numerator, denominator):\n",
        "    self.numerator = numerator\n",
        "    self.denominator = denominator\n",
        "  def __str__(self):\n",
        "    return f\"{self.numerator}/{self.denominator}\"\n",
        "frac = Fractions(10, 30)\n",
        "print(\"Fractions:\", frac)"
      ],
      "metadata": {
        "colab": {
          "base_uri": "https://localhost:8080/"
        },
        "id": "LpDKWq7FrhSk",
        "outputId": "571cc706-4b4e-4c00-9c4b-6165b6ff4e3d"
      },
      "execution_count": 12,
      "outputs": [
        {
          "output_type": "stream",
          "name": "stdout",
          "text": [
            "Fractions: 10/30\n"
          ]
        }
      ]
    },
    {
      "cell_type": "markdown",
      "source": [
        "10.Demonstrate operator overloading by creating a class Vector and overriding the add method to add two\n",
        "vectors."
      ],
      "metadata": {
        "id": "Hxsq-GpPrlVB"
      }
    },
    {
      "cell_type": "code",
      "source": [
        "class Vector:\n",
        "  def __init__(self, x, y):\n",
        "    self.x = x\n",
        "    self.y = y\n",
        "  def __add__(self, other):\n",
        "    return Vector(self.x + other.x, self.y + other.y)\n",
        "  def __str__(self):\n",
        "    return f\"({self.x}, {self.y})\"\n",
        "v1 = Vector(2,6)\n",
        "v2 = Vector(10,20)\n",
        "v3 = v1 + v2\n",
        "print(\"Vector Additions\", v3)"
      ],
      "metadata": {
        "colab": {
          "base_uri": "https://localhost:8080/"
        },
        "id": "K5_KAw8Lrocy",
        "outputId": "32524941-608f-41f0-b3df-e11372df1be5"
      },
      "execution_count": 13,
      "outputs": [
        {
          "output_type": "stream",
          "name": "stdout",
          "text": [
            "Vector Additions (12, 26)\n"
          ]
        }
      ]
    },
    {
      "cell_type": "markdown",
      "source": [
        "11.Create a class Person with attributes name and age. Add a method greet() that prints \"Hello, my name is\n",
        "{name} and I am {age} years old.\""
      ],
      "metadata": {
        "id": "k5nJnKaErsnk"
      }
    },
    {
      "cell_type": "code",
      "source": [
        "class Person:\n",
        "  def __init__(self, name, age):\n",
        "    self.name = name\n",
        "    self.age = age\n",
        "  def greet(self):\n",
        "    print(f\"Hello, my name is {self.name} and i am {self.age} years old\")\n",
        "p1 = Person(\"Ronit\", 22)\n",
        "p2 = Person(\"Aryan\", 23)\n",
        "p1.greet()\n",
        "p2.greet()"
      ],
      "metadata": {
        "colab": {
          "base_uri": "https://localhost:8080/"
        },
        "id": "yZRJC_GQrxMV",
        "outputId": "cfa038f7-ad45-4af3-8406-4d0a70f0f44f"
      },
      "execution_count": 14,
      "outputs": [
        {
          "output_type": "stream",
          "name": "stdout",
          "text": [
            "Hello, my name is Ronit and i am 22 years old\n",
            "Hello, my name is Aryan and i am 23 years old\n"
          ]
        }
      ]
    },
    {
      "cell_type": "markdown",
      "source": [
        "12.Implement a class Student with attributes name and grades. Create a method average_grade() to compute\n",
        "the average of the grades."
      ],
      "metadata": {
        "id": "FQ44fGoPr02l"
      }
    },
    {
      "cell_type": "code",
      "source": [
        "class Student:\n",
        "  def __init__(self, name, grades):\n",
        "    self.name = name\n",
        "    self.grades = grades\n",
        "  def average_grades(self):\n",
        "    return sum(self.grades) / len(self.grades) if self.grades else 0\n",
        "s1 = Student(\"Asad\", [80,70,88])\n",
        "s2 = Student(\"Rahul\", [76,89,50])\n",
        "print(f\"{s1.name}'s average grade: {s1.average_grades()}\")\n",
        "print(f\"{s2.name}'s average grade: {s2.average_grades()}\")"
      ],
      "metadata": {
        "colab": {
          "base_uri": "https://localhost:8080/"
        },
        "id": "XnjwsqOvr3S5",
        "outputId": "0d64d74f-2444-4472-d70b-b1aa853ed4f9"
      },
      "execution_count": 15,
      "outputs": [
        {
          "output_type": "stream",
          "name": "stdout",
          "text": [
            "Asad's average grade: 79.33333333333333\n",
            "Rahul's average grade: 71.66666666666667\n"
          ]
        }
      ]
    },
    {
      "cell_type": "markdown",
      "source": [
        "13.Create a class Rectangle with methods set_dimensions() to set the dimensions and area() to calculate the\n",
        "area."
      ],
      "metadata": {
        "id": "vDAW295ur8md"
      }
    },
    {
      "cell_type": "code",
      "source": [
        "class Rectangle:\n",
        "  def __init__(self):\n",
        "    self.height = 0\n",
        "    self.width = 0\n",
        "  def self_dimensions(self, width, height):\n",
        "    self.width = width\n",
        "    self.height = height\n",
        "  def area(self):\n",
        "    return self.width * self.height\n",
        "rect = Rectangle()\n",
        "rect.self_dimensions(20,30)\n",
        "print(f\"Rectangle area: {rect.area()}\")"
      ],
      "metadata": {
        "colab": {
          "base_uri": "https://localhost:8080/"
        },
        "id": "DJNIlVJBsACW",
        "outputId": "798c7515-1472-4f24-c182-101083069592"
      },
      "execution_count": 16,
      "outputs": [
        {
          "output_type": "stream",
          "name": "stdout",
          "text": [
            "Rectangle area: 600\n"
          ]
        }
      ]
    },
    {
      "cell_type": "markdown",
      "source": [
        "14.Create a class Employee with a method calculate_salary() that computes the salary based on hours worked\n",
        "and hourly rate. Create a derived class Manager that adds a bonus to the salary."
      ],
      "metadata": {
        "id": "kRAuIikFsD_y"
      }
    },
    {
      "cell_type": "code",
      "source": [
        "class Employee:\n",
        "  def __init__(self, name, hours_worked, hourly_rate):\n",
        "    self.name = name\n",
        "    self.hours_worked = hours_worked\n",
        "    self.hourly_rate = hourly_rate\n",
        "  def calculate_salary(self):\n",
        "    return self.hours_worked * self.hourly_rate\n",
        "class Manager(Employee):\n",
        "  def __init__(self, name, hours_worked, hourly_rate, bonus):\n",
        "    super().__init__(name, hours_worked, hourly_rate)\n",
        "    self.bonus = bonus\n",
        "  def calculate_salary(self):\n",
        "    return super().calculate_salary() + self.bonus\n",
        "emp = Employee(\"Ronit\", 60, 80)\n",
        "manager = Manager(\"Harrsha\", 50, 100, 1000)\n",
        "\n",
        "print(f\"{emp.name}'s salary: ${emp.calculate_salary()}\")\n",
        "print(f\"{manager.name}'s salary: ${manager.calculate_salary()}\")"
      ],
      "metadata": {
        "colab": {
          "base_uri": "https://localhost:8080/"
        },
        "id": "2GHcBgtOsHFi",
        "outputId": "8067da8f-3523-47e9-8d82-d5c3006de4e8"
      },
      "execution_count": 17,
      "outputs": [
        {
          "output_type": "stream",
          "name": "stdout",
          "text": [
            "Ronit's salary: $4800\n",
            "Harrsha's salary: $6000\n"
          ]
        }
      ]
    },
    {
      "cell_type": "markdown",
      "source": [
        "15.Create a class Product with attributes name, price, and quantity. Implement a method total_price() that\n",
        "calculates the total price of the product."
      ],
      "metadata": {
        "id": "2Ls3xBl_sLT3"
      }
    },
    {
      "cell_type": "code",
      "source": [
        "class Product:\n",
        "  def __init__(self, name, price, quantity):\n",
        "    self.name = name\n",
        "    self.price = price\n",
        "    self.quantity = quantity\n",
        "  def total_price(self):\n",
        "    return self.price * self.quantity\n",
        "product1 = Product(\"Laptop\", 50000, 2)\n",
        "product2 = Product(\"Motarcycle\", 120000, 2)\n",
        "\n",
        "print(f\"Total price of {product1.name}: ${product1.total_price()}\")\n",
        "print(f\"Total price of {product2.name}: ${product2.total_price()}\")"
      ],
      "metadata": {
        "colab": {
          "base_uri": "https://localhost:8080/"
        },
        "id": "D1YvTVw5sPRL",
        "outputId": "2d975cf7-e6d1-43f9-eef7-158b1121c86a"
      },
      "execution_count": 18,
      "outputs": [
        {
          "output_type": "stream",
          "name": "stdout",
          "text": [
            "Total price of Laptop: $100000\n",
            "Total price of Motarcycle: $240000\n"
          ]
        }
      ]
    },
    {
      "cell_type": "markdown",
      "source": [
        "16.Create a class Animal with an abstract method sound(). Create two derived classes Cow and Sheep that\n",
        "implement the sound() method."
      ],
      "metadata": {
        "id": "MrRQ_cnjsTEQ"
      }
    },
    {
      "cell_type": "code",
      "source": [
        "from abc import ABC, abstractmethod\n",
        "class Animal(ABC):\n",
        "  @abstractmethod\n",
        "  def sound(self):\n",
        "    pass\n",
        "class Cow(Animal):\n",
        "  def sound(self):\n",
        "    return \"Mooooo\"\n",
        "class Sheep(Animal):\n",
        "  def sound(self):\n",
        "    return \"Baaaaa\"\n",
        "cow = Cow()\n",
        "sheep = Sheep()\n",
        "\n",
        "print(f\"Cow sound: {cow.sound()}\")\n",
        "print(f\"Sheep sound: {sheep.sound()}\")"
      ],
      "metadata": {
        "colab": {
          "base_uri": "https://localhost:8080/"
        },
        "id": "2rbxV6cKsXd_",
        "outputId": "9632541b-866d-4263-89ad-6bd9bfd3c423"
      },
      "execution_count": 19,
      "outputs": [
        {
          "output_type": "stream",
          "name": "stdout",
          "text": [
            "Cow sound: Mooooo\n",
            "Sheep sound: Baaaaa\n"
          ]
        }
      ]
    },
    {
      "cell_type": "markdown",
      "source": [
        "17.Create a class Book with attributes title, author, and year_published. Add a method get_book_info() that\n",
        "returns a formatted string with the book's details."
      ],
      "metadata": {
        "id": "fNbUhQdZsbjv"
      }
    },
    {
      "cell_type": "code",
      "source": [
        "class Book:\n",
        "  def __init__(self, title, author, year_published):\n",
        "    self.title = title\n",
        "    self.author = author\n",
        "    self.year_published = year_published\n",
        "  def get_book_info(self):\n",
        "    return f\"{self.title} by {self.author}, published in {self.year_published}\"\n",
        "book1 = Book(\"1984\",\"George Orwell\", 1949)\n",
        "book2 = Book(\"To kill a Mockingbird\", \"Harper Lee\", 1960)\n",
        "print(book1.get_book_info())\n",
        "print(book2.get_book_info())"
      ],
      "metadata": {
        "colab": {
          "base_uri": "https://localhost:8080/"
        },
        "id": "ju7e4hyNsgJX",
        "outputId": "60e9a683-4a11-4653-8aad-90fb01b07453"
      },
      "execution_count": 20,
      "outputs": [
        {
          "output_type": "stream",
          "name": "stdout",
          "text": [
            "1984 by George Orwell, published in 1949\n",
            "To kill a Mockingbird by Harper Lee, published in 1960\n"
          ]
        }
      ]
    },
    {
      "cell_type": "markdown",
      "source": [
        "18.Create a class House with attributes address and price. Create a derived class Mansion that adds an\n",
        "attribute number_of_rooms."
      ],
      "metadata": {
        "id": "IzoaGxswsjrY"
      }
    },
    {
      "cell_type": "code",
      "source": [
        "class House:\n",
        "  def __init__(self, address, price):\n",
        "        self.address = address\n",
        "        self.price = price\n",
        "  def get_details(self):\n",
        "    return f\"House at {self.address}, priced at ${self.price}\"\n",
        "class Mansion(House):\n",
        "  def __init__(self, address, price, number_of_rooms):\n",
        "    super().__init__(address, price)\n",
        "    self.number_of_rooms = number_of_rooms\n",
        "  def get_details(self):\n",
        "    return f\"Mansion at {self.address}, priced at ${self.price}, with {self.number_of_rooms}\"\n",
        "house = House(\"123 main SE\", 250000)\n",
        "mansion = Mansion(\"456 Luxury Ln\", 1000000, 8)\n",
        "\n",
        "print(house.get_details())\n",
        "print(mansion.get_details())"
      ],
      "metadata": {
        "colab": {
          "base_uri": "https://localhost:8080/"
        },
        "id": "2Af3e7igsnMz",
        "outputId": "6d7ae988-9093-4b24-f951-28672bfe8546"
      },
      "execution_count": 21,
      "outputs": [
        {
          "output_type": "stream",
          "name": "stdout",
          "text": [
            "House at 123 main SE, priced at $250000\n",
            "Mansion at 456 Luxury Ln, priced at $1000000, with 8\n"
          ]
        }
      ]
    }
  ]
}